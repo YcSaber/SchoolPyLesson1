{
 "cells": [
  {
   "cell_type": "code",
   "execution_count": 1,
   "id": "c263518b",
   "metadata": {},
   "outputs": [
    {
     "name": "stdout",
     "output_type": "stream",
     "text": [
      "     月份    蒸发量    降水量  平均温度\n",
      "0    1月    2.0    2.6   2.0\n",
      "1    2月    4.9    5.9   2.2\n",
      "2    3月    7.0    9.0   3.3\n",
      "3    4月   23.2   26.4   4.5\n",
      "4    5月   25.6   28.7   6.3\n",
      "5    6月   76.7   70.7  10.2\n",
      "6    7月  135.6  175.6  20.3\n",
      "7    8月  162.2  182.2  23.4\n",
      "8    9月   32.6   48.7  23.0\n",
      "9   10月   20.0   18.8  16.5\n",
      "10  11月    6.4    6.0  12.0\n",
      "11  12月    3.3    2.3   6.2\n"
     ]
    },
    {
     "data": {
      "text/plain": [
       "'/Users/YacovSong/TechPythonCode/data visualization/5/tmp/overlap.html'"
      ]
     },
     "execution_count": 1,
     "metadata": {},
     "output_type": "execute_result"
    }
   ],
   "source": [
    "import pandas as pd\n",
    "from pyecharts import options as opts\n",
    "from pyecharts.charts import Bar, Line\n",
    "\n",
    "# 绘制叠加的条形图和折线图\n",
    "# 导入数据\n",
    "data = pd.read_excel('../data/1~12月份的降水量、蒸发量、平均温度数据.xlsx')\n",
    "print(data)\n",
    "init_opts = opts.InitOpts(width='800px',height='400px')\n",
    "bar = (Bar(init_opts)\n",
    "       .add_xaxis(data['月份'].tolist())\n",
    "       .add_yaxis('蒸发量',data['蒸发量'].tolist())\n",
    "       .add_yaxis('降水量',data['降水量'].tolist())\n",
    "       .set_global_opts(\n",
    "           xaxis_opts=opts.AxisOpts(name='月份',name_location='center',name_gap=25),\n",
    "           title_opts=opts.TitleOpts(title='1~12月份的降水量、蒸发量、平均温度数据叠加的条形图和折线图'),\n",
    "           yaxis_opts=opts.AxisOpts(\n",
    "               name='蒸发量/降水量(mm)',name_location='center',name_gap= 46,\n",
    "               axislabel_opts=opts.LabelOpts(formatter='{value}')\n",
    "           )\n",
    "       )\n",
    "       .set_series_opts(label_opts=opts.LabelOpts(is_show=False))\n",
    "       .extend_axis(\n",
    "           yaxis=opts.AxisOpts(\n",
    "               name='平均温度(摄氏度)',name_location='center',name_gap=55,\n",
    "               axislabel_opts=opts.LabelOpts(formatter='{value}'),interval=2.5\n",
    "           )\n",
    "       )\n",
    ")\n",
    "line = (Line(init_opts)\n",
    "        .add_xaxis(data['月份'].tolist())\n",
    "        .add_yaxis('平均温度',data['平均温度'].tolist(),yaxis_index=1)\n",
    ")\n",
    "bar.overlap(line)\n",
    "bar.render('../tmp/overlap.html')"
   ]
  },
  {
   "cell_type": "code",
   "execution_count": 2,
   "id": "2e5a3a1e",
   "metadata": {},
   "outputs": [
    {
     "name": "stdout",
     "output_type": "stream",
     "text": [
      "      衬衫   毛衣   领带   裤子   风衣  高跟鞋   袜子\n",
      "商家                                    \n",
      "商家A  120   56   28   98  129   28  107\n",
      "商家B   60  140  153  145  160   70   54\n"
     ]
    },
    {
     "data": {
      "text/plain": [
       "'/Users/YacovSong/TechPythonCode/data visualization/5/tmp/overlap1.html'"
      ]
     },
     "execution_count": 2,
     "metadata": {},
     "output_type": "execute_result"
    }
   ],
   "source": [
    "from pyecharts.charts import Scatter\n",
    "# 绘制叠加的散点图和折线图\n",
    "data1 = pd.read_excel('../data/商家A和商家B的各类商品的销售数据.xlsx',index_col='商家')\n",
    "print(data1)\n",
    "line = (Line(init_opts)\n",
    "        .add_xaxis(data.columns.tolist())\n",
    "        .add_yaxis('商家A',data1.loc['商家A'].tolist())\n",
    "        .add_yaxis('商家B',data1.loc['商家B'].tolist())\n",
    ")\n",
    "\n",
    "scatter = (Scatter(init_opts)\n",
    "           .add_xaxis(data.columns.tolist())\n",
    "           .add_yaxis('商家A',data1.loc['商家A'].tolist(),\n",
    "                     label_opts=opts.LabelOpts(is_show=False),\n",
    "                     symbol_size=20,symbol='diamond')\n",
    "           .add_yaxis('商家B',data1.loc['商家B'].tolist(),\n",
    "                     label_opts=opts.LabelOpts(is_show=False),\n",
    "                     symbol_size=20,symbol='pin')\n",
    "           .set_global_opts(title_opts=opts.TitleOpts(title='商家A和商家B商品销售数据'))\n",
    ")\n",
    "scatter.overlap(line)\n",
    "scatter.render('../tmp/overlap1.html')"
   ]
  },
  {
   "cell_type": "code",
   "execution_count": 3,
   "id": "ea2d3893",
   "metadata": {},
   "outputs": [
    {
     "name": "stdout",
     "output_type": "stream",
     "text": [
      "    网购环节    人数\n",
      "0   浏览商品  2000\n",
      "1  加入购物车   900\n",
      "2   生成订单   400\n",
      "3   支付订单   320\n",
      "4   完成交易   300\n",
      "[['浏览商品', 2000], ['加入购物车', 900], ['生成订单', 400], ['支付订单', 320], ['完成交易', 300]]\n"
     ]
    },
    {
     "data": {
      "text/plain": [
       "'/Users/YacovSong/TechPythonCode/data visualization/5/tmp/funnel1.html'"
      ]
     },
     "execution_count": 3,
     "metadata": {},
     "output_type": "execute_result"
    }
   ],
   "source": [
    "from pyecharts.charts import Funnel\n",
    "# 绘制漏斗图\n",
    "data2 = pd.read_excel('../data/某淘宝店铺的订单转化率统计数据.xlsx')\n",
    "print(data2)\n",
    "x_data = data2['网购环节'].tolist()\n",
    "y_data = data2['人数'].tolist()\n",
    "data2 = [[x_data[i],y_data[i]] for i in range(len(x_data))]\n",
    "print(data2)\n",
    "funnel = (Funnel(init_opts)\n",
    "          .add('',data_pair=data2,label_opts=opts.LabelOpts(\n",
    "              position='inside',formatter=\"{b}:{d}%\"),gap=2,\n",
    "               tooltip_opts=opts.TooltipOpts(trigger='item'),\n",
    "               itemstyle_opts=opts.ItemStyleOpts(border_color='#fff',border_width=1)\n",
    "              )\n",
    "          .set_global_opts(title_opts=opts.TitleOpts(title='某淘宝店铺的订单转化率漏斗图'),\n",
    "                           legend_opts=opts.LegendOpts(pos_left='40%')\n",
    "                          )\n",
    ")\n",
    "funnel.render('../tmp/funnel1.html')"
   ]
  },
  {
   "cell_type": "code",
   "execution_count": 4,
   "id": "1e93de59",
   "metadata": {},
   "outputs": [
    {
     "name": "stdout",
     "output_type": "stream",
     "text": [
      "    星期一  星期二  星期三  星期四  星期五  星期六  星期日\n",
      "时间                                   \n",
      "1     3   63    3   50   78   74   92\n",
      "2    43   40    5   39    9   32   46\n",
      "3    57   55   71   39   26    3   48\n",
      "4    43   73   86   37   36   96   52\n",
      "5    99   58   80   97   30   53   37\n",
      "6    37   29    7   84   73   23   48\n",
      "7    23   77    6   74   81   98   74\n",
      "8    63   25   46   78   29   48   61\n",
      "9    67   94    8   54   37   54   32\n",
      "10    3   30   49   94   42   71   36\n",
      "11   61   74   89   95   67    8   55\n",
      "12   59   14   17   76   81   38   51\n",
      "13   82   72   31   10    3   80   86\n",
      "14    8    9    4   52   31   83   18\n",
      "15   32   74   33   54   75    3   83\n",
      "16   63   32   77   59   19    5   45\n",
      "17   48   61   93   58   74   62   17\n",
      "18   67   23   33   64   39   29    8\n",
      "19   16   59   35   51   40   96   84\n",
      "20   65   68   88   57   68   70   54\n",
      "21  100   79   47   19    8   65    3\n",
      "22   44   53   93   82   31   83   86\n",
      "23   68   76   15   27   14   69   38\n",
      "24   19   70   90   40   51   97   94\n"
     ]
    },
    {
     "data": {
      "text/plain": [
       "'/Users/YacovSong/TechPythonCode/data visualization/5/tmp/heatmap.html'"
      ]
     },
     "execution_count": 4,
     "metadata": {},
     "output_type": "execute_result"
    }
   ],
   "source": [
    "from pyecharts.charts import HeatMap\n",
    "# 绘制热力图\n",
    "\n",
    "data3 = pd.read_excel('../data/heatmap.xlsx',index_col=0)\n",
    "print(data3)\n",
    "# 处理数据\n",
    "y_data = list(data3.columns)\n",
    "x_data = list(data3.index)\n",
    "values = data3.iloc[:,0:7].values.tolist()\n",
    "value = [[i,j,values[i][j]]for i in range(len(x_data)) for j in range(len(y_data))]\n",
    "heatmap = (HeatMap(init_opts)\n",
    "           .add_xaxis(x_data)\n",
    "           .add_yaxis('',\n",
    "                      y_data,\n",
    "                      value,\n",
    "                      label_opts=opts.LabelOpts(is_show=True,position='inside')\n",
    "                     )\n",
    "           .set_global_opts(\n",
    "               title_opts=opts.TitleOpts(title='某网站某周一周点击量热力图'),\n",
    "               visualmap_opts=opts.VisualMapOpts(pos_bottom='center')\n",
    "           )\n",
    ")\n",
    "heatmap.render('../tmp/heatmap.html')"
   ]
  },
  {
   "cell_type": "code",
   "execution_count": 11,
   "id": "71cfc5ef",
   "metadata": {},
   "outputs": [
    {
     "name": "stdout",
     "output_type": "stream",
     "text": [
      "[('东风', 1379), ('何处', 1231), ('人间', 1164), ('风流', 843), ('归去', 818), ('春风', 800), ('西风', 782), ('归来', 768), ('江南', 760), ('相思', 759), ('梅花', 725), ('千里', 668), ('多少', 653), ('回首', 649), ('如今', 647), ('明月', 646), ('阑干', 632), ('年年', 605), ('万里', 587), ('一笑', 579), ('黄昏', 561), ('当年', 537), ('芳草', 533), ('天涯', 531), ('相逢', 523), ('尊前', 519), ('一枝', 510), ('风雨', 500), ('流水', 481), ('风吹', 474), ('依旧', 469), ('多情', 458), ('风月', 452), ('当时', 451), ('故人', 445), ('斜阳', 444), ('无人', 443), ('不知', 426), ('深处', 424), ('不见', 416), ('时节', 407), ('凄凉', 404), ('平生', 394), ('春色', 393), ('无限', 381), ('一点', 374), ('功名', 366), ('杨柳', 363), ('天上', 361), ('匆匆', 357), ('芙蓉', 356), ('今日', 354), ('扁舟', 351), ('西湖', 350), ('憔瘁', 349), ('消息', 347), ('桃花', 343), ('何事', 335), ('一片', 333), ('神仙', 332), ('一声', 331), ('黄花', 330), ('心事', 330), ('鸳鸯', 328), ('十分', 327), ('人生', 324), ('断肠', 323), ('佳人', 323), ('长安', 321), ('东君', 319), ('桃李', 319), ('而今', 318), ('为谁', 317), ('无情', 307), ('去年', 306), ('天气', 306), ('不是', 305), ('海棠', 305), ('少年', 305), ('今夜', 304), ('不似', 303), ('十年', 303), ('行人', 300), ('谁知', 300), ('寂寞', 299), ('肠断', 297), ('江上', 297), ('悠悠', 297), ('富贵', 295), ('时候', 295), ('昨夜', 295), ('几度', 292), ('月明', 292), ('何时', 291), ('青山', 291), ('蓬莱', 290), ('往事', 290), ('如何', 287), ('惟有', 287)]\n"
     ]
    }
   ],
   "source": [
    "from pyecharts.charts import WordCloud\n",
    "# 绘制词云图\n",
    "data_read = pd.read_csv('../data/worldcloud.csv',encoding='gbk')\n",
    "words = list(data_read['词语'].values)\n",
    "num = list(data_read['频数'].values)\n",
    "data4 = [k for k in zip(words,num)]\n",
    "# data4 = [(i,str(j)) for i,j in data4]\n",
    "print(data4)"
   ]
  },
  {
   "cell_type": "code",
   "execution_count": null,
   "id": "e6e7c561",
   "metadata": {},
   "outputs": [],
   "source": []
  },
  {
   "cell_type": "code",
   "execution_count": null,
   "id": "683ece7a",
   "metadata": {},
   "outputs": [],
   "source": []
  }
 ],
 "metadata": {
  "kernelspec": {
   "display_name": "Python 3 (ipykernel)",
   "language": "python",
   "name": "python3"
  },
  "language_info": {
   "codemirror_mode": {
    "name": "ipython",
    "version": 3
   },
   "file_extension": ".py",
   "mimetype": "text/x-python",
   "name": "python",
   "nbconvert_exporter": "python",
   "pygments_lexer": "ipython3",
   "version": "3.10.2"
  }
 },
 "nbformat": 4,
 "nbformat_minor": 5
}
