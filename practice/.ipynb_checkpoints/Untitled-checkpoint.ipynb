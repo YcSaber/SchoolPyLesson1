{
 "cells": [
  {
   "cell_type": "code",
   "execution_count": null,
   "id": "f4e65493",
   "metadata": {},
   "outputs": [],
   "source": [
    "import matplotlib.pyplot as plt\n",
    "from sklearn import datasets\n",
    "import pandas as pd\n",
    "plc.rcParams['font.sans-serif'] = ['SimHei']\n",
    "plc.rcParams['axes.unicode_minus'] = False\n",
    "iris = dasasets.load_iris()\n",
    "df = pd.DataFrame(iris.data,colunms=['SpealLength','Spealwidth','PetalLength','Petalwidth'])\n",
    "df.columns = ['花萼长度','花萼宽度','花瓣长度','花瓣宽度']\n",
    "df.head()"
   ]
  }
 ],
 "metadata": {
  "kernelspec": {
   "display_name": "Python 3 (ipykernel)",
   "language": "python",
   "name": "python3"
  },
  "language_info": {
   "codemirror_mode": {
    "name": "ipython",
    "version": 3
   },
   "file_extension": ".py",
   "mimetype": "text/x-python",
   "name": "python",
   "nbconvert_exporter": "python",
   "pygments_lexer": "ipython3",
   "version": "3.10.2"
  }
 },
 "nbformat": 4,
 "nbformat_minor": 5
}
