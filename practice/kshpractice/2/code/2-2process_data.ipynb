{
 "cells": [
  {
   "cell_type": "code",
   "execution_count": 2,
   "id": "5fc32983",
   "metadata": {},
   "outputs": [
    {
     "name": "stdout",
     "output_type": "stream",
     "text": [
      "data中元素是否为空值的布尔型DataFrame为：\n",
      "       x1     x2     x3     x4     x5\n",
      "0  False  False  False  False  False\n",
      "1  False   True  False  False   True\n",
      "2  False  False   True  False  False\n",
      "3   True  False  False  False   True\n",
      "4  False   True  False  False  False\n",
      "5  False  False  False  False   True\n",
      "6  False  False   True  False  False\n",
      "data中元素是否为非空值的布尔型DataFrame为：\n",
      "       x1     x2     x3    x4     x5\n",
      "0   True   True   True  True   True\n",
      "1   True  False   True  True  False\n",
      "2   True   True  False  True   True\n",
      "3  False   True   True  True  False\n",
      "4   True  False   True  True   True\n",
      "5   True   True   True  True  False\n",
      "6   True   True  False  True   True\n"
     ]
    }
   ],
   "source": [
    "import pandas as pd\n",
    "data = pd.read_excel('../data/data.xlsx')\n",
    "print('data中元素是否为空值的布尔型DataFrame为：\\n', data.isnull())\n",
    "print('data中元素是否为非空值的布尔型DataFrame为：\\n', data.notnull())\n"
   ]
  },
  {
   "cell_type": "code",
   "execution_count": 3,
   "id": "be9e20ea",
   "metadata": {},
   "outputs": [
    {
     "name": "stdout",
     "output_type": "stream",
     "text": [
      "data中每个特征对应的非空值数为：\n",
      " x1    6\n",
      "x2    5\n",
      "x3    5\n",
      "x4    7\n",
      "x5    4\n",
      "dtype: int64\n",
      "data中每个特征对应的缺失率为：\n",
      " x1    0.142857\n",
      "x2    0.285714\n",
      "x3    0.285714\n",
      "x4    0.000000\n",
      "x5    0.428571\n",
      "dtype: float64\n"
     ]
    }
   ],
   "source": [
    "print('data中每个特征对应的非空值数为：\\n', data.count())\n",
    "print('data中每个特征对应的缺失率为：\\n', 1-data.count() / len(data))\n"
   ]
  },
  {
   "cell_type": "code",
   "execution_count": 4,
   "id": "d2b9b46d",
   "metadata": {},
   "outputs": [
    {
     "name": "stdout",
     "output_type": "stream",
     "text": [
      "箱型图的四分位距（IQR）检测出的array中异常值为：\n",
      " [376.04, 459.38, 1100.34, 2000.67]\n",
      "箱型图的四分位距（IQR）检测出的异常值比例为：\n",
      " 0.14814814814814814\n"
     ]
    }
   ],
   "source": [
    "import numpy as np\n",
    "arr = (18.02, 63.77, 79.52, 29.89, 68.86, 54.49, 92.59, 376.04, 5.92, 83.75, 70.12, 459.38,\n",
    "       82.96, 37.81, 65.08, 59.07, 47.56, 86.96, 38.38, 1100.34, 7.98, 2.82, 74.76, 87.64,\n",
    "       67.90, 89.9, 2000.67)\n",
    "# 利用箱型图的四分位距（IQR）对异常值进行检测\n",
    "Percentile = np.percentile(arr, [0, 25, 50, 75, 100])  # 计算百分位数\n",
    "IQR = Percentile[3] - Percentile[1]  # 计算箱型图四分位距\n",
    "UpLimit = Percentile[3] + IQR*1.5  # 计算临界值上界\n",
    "arrayownLimit = Percentile[1] - IQR * 1.5  # 计算临界值下界\n",
    "# 判断异常值，大于上界或小于下界的值即为异常值\n",
    "abnormal = [i for i in arr if i > UpLimit or i < arrayownLimit] \n",
    "print('箱型图的四分位距（IQR）检测出的array中异常值为：\\n', abnormal)\n",
    "print('箱型图的四分位距（IQR）检测出的异常值比例为：\\n', len(abnormal) / len(arr))\n"
   ]
  },
  {
   "cell_type": "code",
   "execution_count": 5,
   "id": "78434235",
   "metadata": {},
   "outputs": [
    {
     "name": "stdout",
     "output_type": "stream",
     "text": [
      "3sigma原则检测出的array中异常值为：\n",
      " [1100.34, 2000.67]\n",
      "3sigma原则检测出的异常值比例为：\n",
      " 0.07407407407407407\n"
     ]
    }
   ],
   "source": [
    "# 利用3sigma原则对异常值进行检测\n",
    "array_mean = np.array(arr).mean()  # 计算平均值\n",
    "array_sarray = np.array(arr).std()  # 计算标准差\n",
    "array_cha = arr - array_mean  # 计算元素与平均值之差\n",
    "# 返回异常值所在位置\n",
    "ind = [i for i in range(len(array_cha)) if np.abs(array_cha[i]) > array_sarray]\n",
    "abnormal = [arr[i] for i in ind]  # 返回异常值\n",
    "print('3sigma原则检测出的array中异常值为：\\n', abnormal)\n",
    "print('3sigma原则检测出的异常值比例为：\\n', len(abnormal) / len(arr))\n"
   ]
  },
  {
   "cell_type": "code",
   "execution_count": null,
   "id": "4131843a",
   "metadata": {},
   "outputs": [],
   "source": []
  }
 ],
 "metadata": {
  "kernelspec": {
   "display_name": "Python 3 (ipykernel)",
   "language": "python",
   "name": "python3"
  },
  "language_info": {
   "codemirror_mode": {
    "name": "ipython",
    "version": 3
   },
   "file_extension": ".py",
   "mimetype": "text/x-python",
   "name": "python",
   "nbconvert_exporter": "python",
   "pygments_lexer": "ipython3",
   "version": "3.10.2"
  }
 },
 "nbformat": 4,
 "nbformat_minor": 5
}
